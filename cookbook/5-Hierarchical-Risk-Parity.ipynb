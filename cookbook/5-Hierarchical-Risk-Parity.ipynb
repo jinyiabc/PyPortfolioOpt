{
 "cells": [
  {
   "cell_type": "markdown",
   "id": "consolidated-vault",
   "metadata": {},
   "source": [
    "# Hierarchical Risk Parity\n",
    "\n",
    "HRP is a modern portfolio optimization method inspired by machine learning.\n",
    "\n",
    "The idea is that by examining the hierarchical structure of the market, we can better diversify. \n",
    "\n",
    "In this cookbook recipe, we will cover:\n",
    "\n",
    "- Downloading data for HRP\n",
    "- Using HRP to find the minimum variance portfolio\n",
    "- Plotting dendrograms\n",
    "\n"
   ]
  },
  {
   "cell_type": "markdown",
   "id": "saving-safety",
   "metadata": {},
   "source": [
    "## Downloading data\n",
    "\n",
    "HRP only requires historical returns"
   ]
  },
  {
   "cell_type": "code",
   "execution_count": 1,
   "id": "committed-riverside",
   "metadata": {},
   "outputs": [
    {
     "data": {
      "text/plain": [
       "'1.5.1'"
      ]
     },
     "execution_count": 1,
     "metadata": {},
     "output_type": "execute_result"
    }
   ],
   "source": [
    "import numpy as np\n",
    "import pandas as pd\n",
    "import matplotlib.pyplot as plt\n",
    "import yfinance as yf\n",
    "import pypfopt\n",
    "\n",
    "pypfopt.__version__"
   ]
  },
  {
   "cell_type": "code",
   "execution_count": 9,
   "id": "confident-plant",
   "metadata": {},
   "outputs": [
    {
     "data": {
      "text/html": [
       "<div>\n",
       "<style scoped>\n",
       "    .dataframe tbody tr th:only-of-type {\n",
       "        vertical-align: middle;\n",
       "    }\n",
       "\n",
       "    .dataframe tbody tr th {\n",
       "        vertical-align: top;\n",
       "    }\n",
       "\n",
       "    .dataframe thead th {\n",
       "        text-align: right;\n",
       "    }\n",
       "</style>\n",
       "<table border=\"1\" class=\"dataframe\">\n",
       "  <thead>\n",
       "    <tr style=\"text-align: right;\">\n",
       "      <th></th>\n",
       "      <th>600519.SH</th>\n",
       "      <th>000858.SZ</th>\n",
       "      <th>000568.SZ</th>\n",
       "      <th>600809.SH</th>\n",
       "      <th>002304.SZ</th>\n",
       "      <th>000799.SZ</th>\n",
       "      <th>600132.SH</th>\n",
       "      <th>000596.SZ</th>\n",
       "      <th>600600.SH</th>\n",
       "      <th>002568.SZ</th>\n",
       "      <th>688660.SH</th>\n",
       "    </tr>\n",
       "  </thead>\n",
       "  <tbody>\n",
       "    <tr>\n",
       "      <th>2022-01-12</th>\n",
       "      <td>0.013630</td>\n",
       "      <td>0.021372</td>\n",
       "      <td>-0.003636</td>\n",
       "      <td>-0.016448</td>\n",
       "      <td>0.000806</td>\n",
       "      <td>0.010419</td>\n",
       "      <td>0.024687</td>\n",
       "      <td>0.001798</td>\n",
       "      <td>0.009119</td>\n",
       "      <td>0.008584</td>\n",
       "      <td>0.023170</td>\n",
       "    </tr>\n",
       "    <tr>\n",
       "      <th>2022-01-13</th>\n",
       "      <td>-0.045557</td>\n",
       "      <td>-0.041391</td>\n",
       "      <td>-0.026764</td>\n",
       "      <td>-0.015251</td>\n",
       "      <td>-0.028681</td>\n",
       "      <td>-0.053941</td>\n",
       "      <td>-0.003089</td>\n",
       "      <td>-0.046025</td>\n",
       "      <td>-0.016641</td>\n",
       "      <td>-0.042360</td>\n",
       "      <td>-0.015399</td>\n",
       "    </tr>\n",
       "    <tr>\n",
       "      <th>2022-01-14</th>\n",
       "      <td>-0.005534</td>\n",
       "      <td>-0.008138</td>\n",
       "      <td>0.014063</td>\n",
       "      <td>-0.017730</td>\n",
       "      <td>-0.017219</td>\n",
       "      <td>-0.011885</td>\n",
       "      <td>-0.016266</td>\n",
       "      <td>-0.020549</td>\n",
       "      <td>0.011207</td>\n",
       "      <td>-0.023228</td>\n",
       "      <td>0.002760</td>\n",
       "    </tr>\n",
       "    <tr>\n",
       "      <th>2022-01-17</th>\n",
       "      <td>-0.002887</td>\n",
       "      <td>0.007915</td>\n",
       "      <td>0.011138</td>\n",
       "      <td>0.012577</td>\n",
       "      <td>0.006619</td>\n",
       "      <td>-0.001995</td>\n",
       "      <td>0.011417</td>\n",
       "      <td>0.003409</td>\n",
       "      <td>-0.011637</td>\n",
       "      <td>0.003102</td>\n",
       "      <td>0.005505</td>\n",
       "    </tr>\n",
       "    <tr>\n",
       "      <th>2022-01-18</th>\n",
       "      <td>0.016470</td>\n",
       "      <td>0.012689</td>\n",
       "      <td>0.026297</td>\n",
       "      <td>0.013996</td>\n",
       "      <td>0.031331</td>\n",
       "      <td>0.026937</td>\n",
       "      <td>0.018451</td>\n",
       "      <td>-0.000622</td>\n",
       "      <td>0.003028</td>\n",
       "      <td>-0.008658</td>\n",
       "      <td>0.017336</td>\n",
       "    </tr>\n",
       "  </tbody>\n",
       "</table>\n",
       "</div>"
      ],
      "text/plain": [
       "            600519.SH  000858.SZ  000568.SZ  600809.SH  002304.SZ  000799.SZ  \\\n",
       "2022-01-12   0.013630   0.021372  -0.003636  -0.016448   0.000806   0.010419   \n",
       "2022-01-13  -0.045557  -0.041391  -0.026764  -0.015251  -0.028681  -0.053941   \n",
       "2022-01-14  -0.005534  -0.008138   0.014063  -0.017730  -0.017219  -0.011885   \n",
       "2022-01-17  -0.002887   0.007915   0.011138   0.012577   0.006619  -0.001995   \n",
       "2022-01-18   0.016470   0.012689   0.026297   0.013996   0.031331   0.026937   \n",
       "\n",
       "            600132.SH  000596.SZ  600600.SH  002568.SZ  688660.SH  \n",
       "2022-01-12   0.024687   0.001798   0.009119   0.008584   0.023170  \n",
       "2022-01-13  -0.003089  -0.046025  -0.016641  -0.042360  -0.015399  \n",
       "2022-01-14  -0.016266  -0.020549   0.011207  -0.023228   0.002760  \n",
       "2022-01-17   0.011417   0.003409  -0.011637   0.003102   0.005505  \n",
       "2022-01-18   0.018451  -0.000622   0.003028  -0.008658   0.017336  "
      ]
     },
     "execution_count": 9,
     "metadata": {},
     "output_type": "execute_result"
    }
   ],
   "source": [
    "from pypfopt import expected_returns\n",
    "file_path = '../tests/resources/wine.csv'\n",
    "prices = pd.read_csv(file_path, parse_dates=True, index_col=\"Unnamed: 0\")\n",
    "\n",
    "rets = expected_returns.returns_from_prices(prices)\n",
    "rets.tail()"
   ]
  },
  {
   "cell_type": "markdown",
   "id": "answering-tamil",
   "metadata": {},
   "source": [
    "## HRP optimization\n",
    "\n",
    "HRP uses a completely different backend, so it is currently not possible to pass constraints or specify an objective function."
   ]
  },
  {
   "cell_type": "code",
   "execution_count": 10,
   "id": "crazy-minority",
   "metadata": {},
   "outputs": [],
   "source": [
    "from pypfopt import HRPOpt"
   ]
  },
  {
   "cell_type": "code",
   "execution_count": 11,
   "id": "determined-license",
   "metadata": {},
   "outputs": [
    {
     "data": {
      "text/plain": [
       "OrderedDict([('600519.SH', 0.12143),\n",
       "             ('000858.SZ', 0.11751),\n",
       "             ('000568.SZ', 0.05381),\n",
       "             ('600809.SH', 0.07621),\n",
       "             ('002304.SZ', 0.09051),\n",
       "             ('000799.SZ', 0.08161),\n",
       "             ('600132.SH', 0.0527),\n",
       "             ('000596.SZ', 0.0745),\n",
       "             ('600600.SH', 0.0705),\n",
       "             ('002568.SZ', 0.12456),\n",
       "             ('688660.SH', 0.13668)])"
      ]
     },
     "execution_count": 11,
     "metadata": {},
     "output_type": "execute_result"
    }
   ],
   "source": [
    "hrp = HRPOpt(rets)\n",
    "hrp.optimize()\n",
    "weights = hrp.clean_weights()\n",
    "weights"
   ]
  },
  {
   "cell_type": "code",
   "execution_count": 12,
   "id": "existing-memphis",
   "metadata": {},
   "outputs": [
    {
     "data": {
      "image/png": "[encoded data removed]",
      "text/plain": [
       "<Figure size 720x720 with 1 Axes>"
      ]
     },
     "metadata": {},
     "output_type": "display_data"
    }
   ],
   "source": [
    "pd.Series(weights).plot.pie(figsize=(10, 10));"
   ]
  },
  {
   "cell_type": "code",
   "execution_count": 13,
   "id": "dramatic-spyware",
   "metadata": {},
   "outputs": [
    {
     "name": "stdout",
     "output_type": "stream",
     "text": [
      "Expected annual return: 42.4%\n",
      "Annual volatility: 32.6%\n",
      "Sharpe Ratio: 1.24\n"
     ]
    }
   ],
   "source": [
    "hrp.portfolio_performance(verbose=True);"
   ]
  },
  {
   "cell_type": "markdown",
   "id": "occupational-costume",
   "metadata": {},
   "source": [
    "## Plotting\n",
    "\n",
    "It is very simple to plot a dendrogram (tree diagram) based on the hierarchical structure of asset returns"
   ]
  },
  {
   "cell_type": "code",
   "execution_count": 14,
   "id": "upset-meaning",
   "metadata": {},
   "outputs": [
    {
     "data": {
      "image/png": "[encoded data removed]",
      "text/plain": [
       "<Figure size 432x288 with 1 Axes>"
      ]
     },
     "metadata": {
      "needs_background": "light"
     },
     "output_type": "display_data"
    }
   ],
   "source": [
    "from pypfopt import plotting\n",
    "\n",
    "plotting.plot_dendrogram(hrp); "
   ]
  },
  {
   "cell_type": "markdown",
   "id": "brave-shock",
   "metadata": {},
   "source": [
    "If you look at this dendogram closely, you can see that most of the clusters make a lot of sense. For example, AMD and NVDA (both semiconductor manufacturers) are grouped."
   ]
  },
  {
   "cell_type": "code",
   "execution_count": null,
   "id": "macro-found",
   "metadata": {},
   "outputs": [],
   "source": []
  }
 ],
 "metadata": {
  "kernelspec": {
   "display_name": "Python 3 (ipykernel)",
   "language": "python",
   "name": "python3"
  },
  "language_info": {
   "codemirror_mode": {
    "name": "ipython",
    "version": 3
   },
   "file_extension": ".py",
   "mimetype": "text/x-python",
   "name": "python",
   "nbconvert_exporter": "python",
   "pygments_lexer": "ipython3",
   "version": "3.8.12"
  }
 },
 "nbformat": 4,
 "nbformat_minor": 5
}